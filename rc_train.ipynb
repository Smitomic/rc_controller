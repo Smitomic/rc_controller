{
 "cells": [
  {
   "cell_type": "markdown",
   "id": "ced5eb87-b43c-47aa-8c4d-923c61e95308",
   "metadata": {},
   "source": [
    "# Import libraries"
   ]
  },
  {
   "cell_type": "code",
   "execution_count": 16,
   "id": "b6b06157-6c16-4dfc-a2de-d3402f7cecbe",
   "metadata": {},
   "outputs": [],
   "source": [
    "import cv2\n",
    "import numpy as np\n",
    "import tensorflow as tf\n",
    "from tensorflow.keras import layers, models, Sequential\n",
    "from tensorflow.keras.utils import to_categorical\n",
    "import os\n",
    "from sklearn.model_selection import train_test_split\n",
    "from sklearn.preprocessing import LabelEncoder\n",
    "from tensorflow.keras.optimizers import Adam\n",
    "import matplotlib.pyplot as plt\n",
    "from sklearn.metrics import accuracy_score, precision_score, recall_score, f1_score\n",
    "from keras.callbacks import EarlyStopping"
   ]
  },
  {
   "cell_type": "markdown",
   "id": "002ae377-d88c-4540-963b-4279c4ef3117",
   "metadata": {},
   "source": [
    "# Load and preprocess images"
   ]
  },
  {
   "cell_type": "code",
   "execution_count": 17,
   "id": "bf25ee78-29dd-4495-9544-2c86e110eb35",
   "metadata": {},
   "outputs": [],
   "source": [
    "direction_classes = [\"accelerate\", \"reverse\", \"leftTurn\", \"rightTurn\", \"leftInPlaceTurn\", \"rightInPlaceTurn\", \"stop\", \"reverseLeft\", \"reverseRight\"]\n",
    "\n",
    "directory_path = r\"C:\\Users\\tomca\\PycharmProjects\\rc car\\rc_controller\\captured_images\"\n",
    "\n",
    "image_paths = []\n",
    "directions = []\n",
    "\n",
    "# Iterate through files in the directory\n",
    "for filename in os.listdir(directory_path):\n",
    "    if filename.endswith(\".jpg\"):\n",
    "         # The last part \"zzz\" of the filename xxx_yyy_zzz is the direction control\n",
    "        direction = filename.split('_')[-1][:-4]\n",
    "        \n",
    "        # Construct the full path to the image\n",
    "        image_path = os.path.join(directory_path, filename)\n",
    "        \n",
    "        # Append the data to the lists\n",
    "        image_paths.append(image_path)\n",
    "        directions.append(direction)"
   ]
  },
  {
   "cell_type": "markdown",
   "id": "731db7ab-26a6-473f-be80-210311376c88",
   "metadata": {},
   "source": [
    "# Image Augmentation\n",
    "For artificially increasing the amount of data for training and testing. This can prevent overfitting.\\\n",
    "Geometric transformation – flipping, zooming, cropping, panning...\\\n",
    "Color space transformatinos  –change RGB channelge"
   ]
  },
  {
   "cell_type": "code",
   "execution_count": 18,
   "id": "714900ef-2b4a-47c2-b3a8-65fff7c32ca8",
   "metadata": {},
   "outputs": [],
   "source": [
    "from scipy import ndimage\n",
    "\n",
    "def zoom(image):\n",
    "    # Specify the zoom factor\n",
    "    zoom_factor = 1.5\n",
    "    \n",
    "    # Resize the image and return\n",
    "    return ndimage.zoom(image, zoom_factor)\n",
    "\n",
    "def adjust_brightness(image, max_delta=30):\n",
    "    # Randomly adjust the brightness of the image\n",
    "    delta = np.random.uniform(-max_delta, max_delta)\n",
    "    image = cv2.add(image, np.array([delta]))\n",
    "    return image\n",
    "\n",
    "def translate_shift(image, max_translation=20):\n",
    "    # Randomly translate (shift) the image horizontally and/or vertically\n",
    "    rows, cols, _ = image.shape\n",
    "    dx = np.random.uniform(-max_translation, max_translation)\n",
    "    dy = np.random.uniform(-max_translation, max_translation)\n",
    "    translation_matrix = np.float32([[1, 0, dx], [0, 1, dy]])\n",
    "    image = cv2.warpAffine(image, translation_matrix, (cols, rows))\n",
    "    return image\n",
    "\n",
    "def perform_random_augmentation(image, direction):\n",
    "    # Randomly pick and apply augmentation to the image\n",
    "    augmentations = [\n",
    "        adjust_brightness, translate_shift\n",
    "    ]\n",
    "\n",
    "    selected_augmentations = np.random.choice(augmentations, np.random.randint(1, len(augmentations)), replace=False)\n",
    "\n",
    "    for augmentation in selected_augmentations:\n",
    "        image = augmentation(image)\n",
    "\n",
    "    return image, direction"
   ]
  },
  {
   "cell_type": "markdown",
   "id": "91590dee-9f9d-471e-af0d-07ffafaa87ff",
   "metadata": {},
   "source": [
    "# Preprocess images"
   ]
  },
  {
   "cell_type": "code",
   "execution_count": 19,
   "id": "21ed7e27-72d5-4786-9a09-b163516a38f1",
   "metadata": {},
   "outputs": [],
   "source": [
    "def preprocess_images(image_paths, directions, target_size=(224, 224)):\n",
    "    target_size = (224, 224)\n",
    "    images = []\n",
    "    augmented_directions = []\n",
    "    for path, direction in zip(image_paths, directions):\n",
    "        # Load image using cv2\n",
    "        image = cv2.imread(path)\n",
    "        \n",
    "        # Check if image is loaded successfully\n",
    "        if image is None:\n",
    "            print(f\"Failed to load image: {path}\")\n",
    "            continue\n",
    "        \n",
    "        # Resize the image to the target size\n",
    "        image = cv2.resize(image, target_size)\n",
    "        \n",
    "        # Perform random augmentation\n",
    "        augmented_image, augmented_direction = perform_random_augmentation(image, direction)\n",
    "\n",
    "        # Normalize image\n",
    "        image = cv2.normalize(image, None, 0, 1.0, cv2.NORM_MINMAX, dtype=cv2.CV_32F)\n",
    "        augmented_image = cv2.normalize(image, None, 0, 1.0, cv2.NORM_MINMAX, dtype=cv2.CV_32F)\n",
    "        # Append the processed image and augmented classifier to the list\n",
    "        images.append(image)\n",
    "        images.append(augmented_image)\n",
    "        augmented_directions.append(direction)\n",
    "        augmented_directions.append(augmented_direction)\n",
    "    \n",
    "    return np.array(images), np.array(augmented_directions)"
   ]
  },
  {
   "cell_type": "code",
   "execution_count": 20,
   "id": "094d7f76-aa50-4d73-b3b1-bfd264b70f57",
   "metadata": {},
   "outputs": [],
   "source": [
    "# Apply preprocessing\n",
    "images, directions_processed = preprocess_images(image_paths, directions)"
   ]
  },
  {
   "cell_type": "markdown",
   "id": "de15cca3-3fa7-4448-b5fc-c0bf1f037907",
   "metadata": {},
   "source": [
    "# Label encoding"
   ]
  },
  {
   "cell_type": "code",
   "execution_count": 21,
   "id": "4aa4c65e-5b8a-4675-95e8-7e4d4f23fb01",
   "metadata": {},
   "outputs": [],
   "source": [
    "label_encoder = LabelEncoder()\n",
    "\n",
    "# Convert categorical values into integers\n",
    "encoded_directions = label_encoder.fit_transform(directions_processed)\n",
    "\n",
    "# For neural networks, it is also recommended to apply one hot encoding\n",
    "onehot_encoded_directions = to_categorical(encoded_directions)"
   ]
  },
  {
   "cell_type": "markdown",
   "id": "f190bc2b-799a-4650-9486-e58e845fcc30",
   "metadata": {},
   "source": [
    "# Train/Test split\n",
    "80/20 split is generally a good starting point."
   ]
  },
  {
   "cell_type": "code",
   "execution_count": 22,
   "id": "0a89e054-c449-4693-887f-234ebd90b148",
   "metadata": {},
   "outputs": [
    {
     "name": "stdout",
     "output_type": "stream",
     "text": [
      "Training data: 953\n",
      "Validation data: 239\n"
     ]
    }
   ],
   "source": [
    "X_train, X_valid, y_train, y_valid = train_test_split( images, onehot_encoded_directions, test_size=0.2)\n",
    "print(f\"Training data: {len(X_train)}\\nValidation data: {len(X_valid)}\")"
   ]
  },
  {
   "cell_type": "markdown",
   "id": "d1f78345-4a5f-4cd5-94c6-043ccd1f14a7",
   "metadata": {},
   "source": [
    "# Model\n",
    "## Creating the model"
   ]
  },
  {
   "cell_type": "code",
   "execution_count": 23,
   "id": "14234457-fd30-4972-88e5-c335d9893d18",
   "metadata": {},
   "outputs": [],
   "source": [
    "# num_classes = len(directions)\n",
    "\n",
    "model = Sequential([\n",
    "    layers.Conv2D(16, 3, padding='same', activation='relu'),\n",
    "    layers.MaxPooling2D(),\n",
    "    layers.Dropout(0.2),\n",
    "    layers.Conv2D(32, 3, padding='same', activation='relu'),\n",
    "    layers.MaxPooling2D(),\n",
    "    layers.Dropout(0.2),\n",
    "    layers.Conv2D(64, 3, padding='same', activation='relu'),\n",
    "    layers.MaxPooling2D(),\n",
    "    layers.Dropout(0.2),\n",
    "    layers.Conv2D(64, 3, padding='same', activation='relu'),\n",
    "    layers.MaxPooling2D(),\n",
    "    layers.Dropout(0.2),\n",
    "    # Fully connected layer\n",
    "    layers.Flatten(),\n",
    "    layers.Dense(128, activation='relu'),\n",
    "    #layers.Dropout(0.5),  # Adding dropout layer to further prevent overfitting\n",
    "    layers.Dense(4, activation='softmax')\n",
    "])"
   ]
  },
  {
   "cell_type": "markdown",
   "id": "ced95f8c-02e1-4b16-a03d-fef042e6e9e0",
   "metadata": {},
   "source": [
    "## Compile model"
   ]
  },
  {
   "cell_type": "code",
   "execution_count": 24,
   "id": "c335ff27-2ba9-47c1-b5bd-7c3e7c302a54",
   "metadata": {},
   "outputs": [],
   "source": [
    "model.compile(optimizer=Adam(learning_rate=1e-3), loss='categorical_crossentropy', metrics=['accuracy'])"
   ]
  },
  {
   "cell_type": "markdown",
   "id": "29206ef2-398c-4af6-b0cb-ff843e650806",
   "metadata": {},
   "source": [
    "# Train model"
   ]
  },
  {
   "cell_type": "code",
   "execution_count": 25,
   "id": "4a2394c7-fd8d-4b21-9689-70832f70dc6c",
   "metadata": {},
   "outputs": [
    {
     "name": "stdout",
     "output_type": "stream",
     "text": [
      "Epoch 1/100\n",
      "WARNING:tensorflow:From c:\\python\\python39\\lib\\site-packages\\keras\\src\\utils\\tf_utils.py:492: The name tf.ragged.RaggedTensorValue is deprecated. Please use tf.compat.v1.ragged.RaggedTensorValue instead.\n",
      "\n",
      "WARNING:tensorflow:From c:\\python\\python39\\lib\\site-packages\\keras\\src\\engine\\base_layer_utils.py:384: The name tf.executing_eagerly_outside_functions is deprecated. Please use tf.compat.v1.executing_eagerly_outside_functions instead.\n",
      "\n",
      "30/30 [==============================] - 9s 247ms/step - loss: 1.3651 - accuracy: 0.3872 - val_loss: 1.3024 - val_accuracy: 0.4017\n",
      "Epoch 2/100\n",
      "30/30 [==============================] - 7s 241ms/step - loss: 1.2462 - accuracy: 0.4470 - val_loss: 1.2815 - val_accuracy: 0.4561\n",
      "Epoch 3/100\n",
      "30/30 [==============================] - 7s 239ms/step - loss: 1.2258 - accuracy: 0.4512 - val_loss: 1.2605 - val_accuracy: 0.4728\n",
      "Epoch 4/100\n",
      "30/30 [==============================] - 7s 241ms/step - loss: 1.1963 - accuracy: 0.5037 - val_loss: 1.2366 - val_accuracy: 0.4142\n",
      "Epoch 5/100\n",
      "30/30 [==============================] - 7s 239ms/step - loss: 1.1147 - accuracy: 0.5509 - val_loss: 1.1908 - val_accuracy: 0.4435\n",
      "Epoch 6/100\n",
      "30/30 [==============================] - 7s 239ms/step - loss: 1.0277 - accuracy: 0.5897 - val_loss: 1.0299 - val_accuracy: 0.5941\n",
      "Epoch 7/100\n",
      "30/30 [==============================] - 7s 238ms/step - loss: 0.8541 - accuracy: 0.6548 - val_loss: 0.9505 - val_accuracy: 0.5983\n",
      "Epoch 8/100\n",
      "30/30 [==============================] - 7s 238ms/step - loss: 0.7201 - accuracy: 0.6957 - val_loss: 0.7938 - val_accuracy: 0.7071\n",
      "Epoch 9/100\n",
      "30/30 [==============================] - 7s 241ms/step - loss: 0.5727 - accuracy: 0.7618 - val_loss: 0.7237 - val_accuracy: 0.7280\n",
      "Epoch 10/100\n",
      "30/30 [==============================] - 7s 241ms/step - loss: 0.4840 - accuracy: 0.8038 - val_loss: 0.7539 - val_accuracy: 0.7406\n",
      "Epoch 11/100\n",
      "30/30 [==============================] - 7s 239ms/step - loss: 0.4243 - accuracy: 0.8395 - val_loss: 0.6777 - val_accuracy: 0.7824\n",
      "Epoch 12/100\n",
      "30/30 [==============================] - 7s 239ms/step - loss: 0.3540 - accuracy: 0.8583 - val_loss: 0.6220 - val_accuracy: 0.8326\n",
      "Epoch 13/100\n",
      "30/30 [==============================] - 7s 241ms/step - loss: 0.3050 - accuracy: 0.8804 - val_loss: 0.6363 - val_accuracy: 0.8452\n",
      "Epoch 14/100\n",
      "30/30 [==============================] - 7s 240ms/step - loss: 0.2515 - accuracy: 0.9035 - val_loss: 0.6116 - val_accuracy: 0.8075\n",
      "Epoch 15/100\n",
      "30/30 [==============================] - 7s 238ms/step - loss: 0.2211 - accuracy: 0.9192 - val_loss: 0.6852 - val_accuracy: 0.8536\n",
      "Epoch 16/100\n",
      "30/30 [==============================] - 7s 240ms/step - loss: 0.1930 - accuracy: 0.9307 - val_loss: 0.6369 - val_accuracy: 0.8787\n",
      "Epoch 17/100\n",
      "30/30 [==============================] - 7s 239ms/step - loss: 0.1785 - accuracy: 0.9360 - val_loss: 0.6299 - val_accuracy: 0.8787\n",
      "Epoch 18/100\n",
      "30/30 [==============================] - 7s 239ms/step - loss: 0.1657 - accuracy: 0.9507 - val_loss: 0.5754 - val_accuracy: 0.8661\n",
      "Epoch 19/100\n",
      "30/30 [==============================] - 7s 242ms/step - loss: 0.1954 - accuracy: 0.9286 - val_loss: 0.5862 - val_accuracy: 0.8703\n",
      "Epoch 20/100\n",
      "30/30 [==============================] - 7s 239ms/step - loss: 0.1284 - accuracy: 0.9580 - val_loss: 0.6368 - val_accuracy: 0.8828\n",
      "Epoch 21/100\n",
      "30/30 [==============================] - 7s 239ms/step - loss: 0.1334 - accuracy: 0.9559 - val_loss: 0.5875 - val_accuracy: 0.8954\n",
      "Epoch 22/100\n",
      "30/30 [==============================] - 7s 238ms/step - loss: 0.1312 - accuracy: 0.9528 - val_loss: 0.5886 - val_accuracy: 0.8954\n",
      "Epoch 23/100\n",
      "30/30 [==============================] - 7s 238ms/step - loss: 0.1168 - accuracy: 0.9601 - val_loss: 0.5611 - val_accuracy: 0.8996\n",
      "Epoch 24/100\n",
      "30/30 [==============================] - 7s 239ms/step - loss: 0.0991 - accuracy: 0.9706 - val_loss: 0.5726 - val_accuracy: 0.9079\n",
      "Epoch 25/100\n",
      "30/30 [==============================] - 7s 238ms/step - loss: 0.0721 - accuracy: 0.9811 - val_loss: 0.6706 - val_accuracy: 0.9038\n",
      "Epoch 26/100\n",
      "30/30 [==============================] - 7s 240ms/step - loss: 0.0628 - accuracy: 0.9759 - val_loss: 0.6255 - val_accuracy: 0.9247\n",
      "Epoch 27/100\n",
      "30/30 [==============================] - 7s 243ms/step - loss: 0.0737 - accuracy: 0.9727 - val_loss: 0.6881 - val_accuracy: 0.9079\n",
      "Epoch 28/100\n",
      "30/30 [==============================] - 7s 240ms/step - loss: 0.0698 - accuracy: 0.9727 - val_loss: 0.6939 - val_accuracy: 0.9121\n",
      "Epoch 29/100\n",
      "30/30 [==============================] - 7s 241ms/step - loss: 0.0656 - accuracy: 0.9769 - val_loss: 0.7190 - val_accuracy: 0.8996\n",
      "Epoch 30/100\n",
      "30/30 [==============================] - 7s 239ms/step - loss: 0.0600 - accuracy: 0.9790 - val_loss: 0.6754 - val_accuracy: 0.9121\n",
      "Epoch 31/100\n",
      "30/30 [==============================] - 7s 240ms/step - loss: 0.0518 - accuracy: 0.9811 - val_loss: 0.6837 - val_accuracy: 0.9205\n",
      "Epoch 32/100\n",
      "30/30 [==============================] - 7s 238ms/step - loss: 0.0600 - accuracy: 0.9790 - val_loss: 0.7077 - val_accuracy: 0.9163\n",
      "Epoch 33/100\n",
      "30/30 [==============================] - 7s 238ms/step - loss: 0.0683 - accuracy: 0.9759 - val_loss: 0.6557 - val_accuracy: 0.9205\n"
     ]
    }
   ],
   "source": [
    "early_stopping = EarlyStopping(monitor='val_loss', patience=10)\n",
    "\n",
    "history = model.fit(X_train, y_train, epochs=100, batch_size=32, validation_data=(X_valid, y_valid), callbacks=[early_stopping])"
   ]
  },
  {
   "cell_type": "markdown",
   "id": "e1601360-a29d-49f2-8b6d-2ab1b9dba3b2",
   "metadata": {},
   "source": [
    "## Model summary"
   ]
  },
  {
   "cell_type": "code",
   "execution_count": 26,
   "id": "5c826979-18f1-48e9-8baf-95ae16113608",
   "metadata": {},
   "outputs": [
    {
     "name": "stdout",
     "output_type": "stream",
     "text": [
      "Model: \"sequential_1\"\n",
      "_________________________________________________________________\n",
      " Layer (type)                Output Shape              Param #   \n",
      "=================================================================\n",
      " conv2d_4 (Conv2D)           (None, 224, 224, 16)      448       \n",
      "                                                                 \n",
      " max_pooling2d_4 (MaxPoolin  (None, 112, 112, 16)      0         \n",
      " g2D)                                                            \n",
      "                                                                 \n",
      " dropout_4 (Dropout)         (None, 112, 112, 16)      0         \n",
      "                                                                 \n",
      " conv2d_5 (Conv2D)           (None, 112, 112, 32)      4640      \n",
      "                                                                 \n",
      " max_pooling2d_5 (MaxPoolin  (None, 56, 56, 32)        0         \n",
      " g2D)                                                            \n",
      "                                                                 \n",
      " dropout_5 (Dropout)         (None, 56, 56, 32)        0         \n",
      "                                                                 \n",
      " conv2d_6 (Conv2D)           (None, 56, 56, 64)        18496     \n",
      "                                                                 \n",
      " max_pooling2d_6 (MaxPoolin  (None, 28, 28, 64)        0         \n",
      " g2D)                                                            \n",
      "                                                                 \n",
      " dropout_6 (Dropout)         (None, 28, 28, 64)        0         \n",
      "                                                                 \n",
      " conv2d_7 (Conv2D)           (None, 28, 28, 64)        36928     \n",
      "                                                                 \n",
      " max_pooling2d_7 (MaxPoolin  (None, 14, 14, 64)        0         \n",
      " g2D)                                                            \n",
      "                                                                 \n",
      " dropout_7 (Dropout)         (None, 14, 14, 64)        0         \n",
      "                                                                 \n",
      " flatten_1 (Flatten)         (None, 12544)             0         \n",
      "                                                                 \n",
      " dense_2 (Dense)             (None, 128)               1605760   \n",
      "                                                                 \n",
      " dense_3 (Dense)             (None, 4)                 516       \n",
      "                                                                 \n",
      "=================================================================\n",
      "Total params: 1666788 (6.36 MB)\n",
      "Trainable params: 1666788 (6.36 MB)\n",
      "Non-trainable params: 0 (0.00 Byte)\n",
      "_________________________________________________________________\n"
     ]
    }
   ],
   "source": [
    "model.summary()"
   ]
  },
  {
   "cell_type": "markdown",
   "id": "a3381ecf-5bff-480e-89df-84cf261c4c27",
   "metadata": {},
   "source": [
    "# Plot accuracy over epochs"
   ]
  },
  {
   "cell_type": "code",
   "execution_count": 27,
   "id": "d2567c8f-ef30-4e6d-b335-2f592dc75e6f",
   "metadata": {},
   "outputs": [
    {
     "data": {
      "image/png": "[encoded data removed]",
      "text/plain": [
       "<Figure size 720x432 with 1 Axes>"
      ]
     },
     "metadata": {
      "needs_background": "light"
     },
     "output_type": "display_data"
    }
   ],
   "source": [
    "plt.figure(figsize=(10, 6))\n",
    "plt.plot(history.history['accuracy'], label='Training Accuracy')\n",
    "plt.plot(history.history['val_accuracy'], label='Validation Accuracy')\n",
    "plt.title('Training and Validation Accuracy over Epochs')\n",
    "plt.xlabel('Epochs')\n",
    "plt.ylabel('Accuracy')\n",
    "plt.legend()\n",
    "plt.show()"
   ]
  },
  {
   "cell_type": "markdown",
   "id": "6b28aa43-095d-40fb-a840-48862163900a",
   "metadata": {},
   "source": [
    "# Plot loss over epochs"
   ]
  },
  {
   "cell_type": "code",
   "execution_count": 28,
   "id": "8e0c5aba-412c-4992-9d1c-b4bdb8258776",
   "metadata": {},
   "outputs": [
    {
     "data": {
      "image/png": "[encoded data removed]",
      "text/plain": [
       "<Figure size 720x432 with 1 Axes>"
      ]
     },
     "metadata": {
      "needs_background": "light"
     },
     "output_type": "display_data"
    }
   ],
   "source": [
    "plt.figure(figsize=(10, 6))\n",
    "plt.plot(history.history['loss'], label='Training Loss')\n",
    "plt.plot(history.history['val_loss'], label='Validation Loss')\n",
    "plt.title('Training and Validation Loss over Epochs')\n",
    "plt.xlabel('Epochs')\n",
    "plt.ylabel('Loss')\n",
    "plt.legend()\n",
    "plt.show()"
   ]
  },
  {
   "cell_type": "markdown",
   "id": "eacdadfc-ae57-4838-b693-6082bd949bdb",
   "metadata": {},
   "source": [
    "# Classification metrics"
   ]
  },
  {
   "cell_type": "code",
   "execution_count": 30,
   "id": "361e0db0-6675-4b8a-bc24-2a70104021e3",
   "metadata": {},
   "outputs": [
    {
     "name": "stdout",
     "output_type": "stream",
     "text": [
      "8/8 [==============================] - 0s 46ms/step\n",
      "Validation Accuracy: 0.9205020920502092\n",
      "Validation Precision: 0.9241410126644964\n",
      "Validation Recall: 0.9205020920502092\n",
      "Validation F1 Score: 0.9208213298559058\n"
     ]
    }
   ],
   "source": [
    "# Convert multilabel-indicator to multiclass format\n",
    "y_valid_multiclass = np.argmax(y_valid, axis=1)\n",
    "\n",
    "# Evaluate the model on the validation set\n",
    "y_pred_valid = model.predict(X_valid)\n",
    "y_pred_valid_classes = np.argmax(y_pred_valid, axis=1)\n",
    "\n",
    "# Calculate and print classification metrics\n",
    "accuracy_valid = accuracy_score(y_valid_multiclass, y_pred_valid_classes)\n",
    "precision_valid = precision_score(y_valid_multiclass, y_pred_valid_classes, average='weighted')\n",
    "recall_valid = recall_score(y_valid_multiclass, y_pred_valid_classes, average='weighted')\n",
    "f1_valid = f1_score(y_valid_multiclass, y_pred_valid_classes, average='weighted')\n",
    "\n",
    "print(f\"Validation Accuracy: {accuracy_valid}\")\n",
    "print(f\"Validation Precision: {precision_valid}\")\n",
    "print(f\"Validation Recall: {recall_valid}\")\n",
    "print(f\"Validation F1 Score: {f1_valid}\")"
   ]
  },
  {
   "cell_type": "code",
   "execution_count": null,
   "id": "ea006cad",
   "metadata": {},
   "outputs": [],
   "source": []
  }
 ],
 "metadata": {
  "kernelspec": {
   "display_name": "Python 3 (ipykernel)",
   "language": "python",
   "name": "python3"
  },
  "language_info": {
   "codemirror_mode": {
    "name": "ipython",
    "version": 3
   },
   "file_extension": ".py",
   "mimetype": "text/x-python",
   "name": "python",
   "nbconvert_exporter": "python",
   "pygments_lexer": "ipython3",
   "version": "3.9.1"
  }
 },
 "nbformat": 4,
 "nbformat_minor": 5
}
