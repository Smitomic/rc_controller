{
 "cells": [
  {
   "cell_type": "markdown",
   "id": "ced5eb87-b43c-47aa-8c4d-923c61e95308",
   "metadata": {},
   "source": [
    "# Import libraries"
   ]
  },
  {
   "cell_type": "code",
   "execution_count": 16,
   "id": "b6b06157-6c16-4dfc-a2de-d3402f7cecbe",
   "metadata": {},
   "outputs": [],
   "source": [
    "import cv2\n",
    "import numpy as np\n",
    "import tensorflow as tf\n",
    "from tensorflow.keras import layers, models\n",
    "import os\n",
    "from sklearn.model_selection import train_test_split"
   ]
  },
  {
   "cell_type": "markdown",
   "id": "002ae377-d88c-4540-963b-4279c4ef3117",
   "metadata": {},
   "source": [
    "# Load and preprocess images"
   ]
  },
  {
   "cell_type": "code",
   "execution_count": 17,
   "id": "bf25ee78-29dd-4495-9544-2c86e110eb35",
   "metadata": {},
   "outputs": [],
   "source": [
    "direction_classes = [\"accelerate\", \"reverse\", \"leftTurn\", \"rightTurn\", \"leftInPlaceTurn\", \"rightInPlaceTurn\", \"stop\"]\n",
    "\n",
    "data_dir = r\"C:\\Users\\Tomas Tomcany\\PycharmProjects\\rc_controller\\captured_images\"\n",
    "file_list = os.listdir(data_dir)\n",
    "image_paths = []\n",
    "directions = []\n",
    "pattern = \"*.jpg\"\n",
    "for filename in file_list:\n",
    "    if fnmatch.fnmatch(filename, pattern):\n",
    "        image_paths.append(os.path.join(data_dir,filename))\n",
    "        # The last part \"zzz\" of the filename xxx_yyy_zzz is the direction control\n",
    "        direction = filename.split('_')[-1]\n",
    "        directions.append(direction)"
   ]
  },
  {
   "cell_type": "markdown",
   "id": "f190bc2b-799a-4650-9486-e58e845fcc30",
   "metadata": {},
   "source": [
    "# Train/Test split\n",
    "80/20 split is generally a good starting point."
   ]
  },
  {
   "cell_type": "code",
   "execution_count": 18,
   "id": "0a89e054-c449-4693-887f-234ebd90b148",
   "metadata": {},
   "outputs": [
    {
     "ename": "ValueError",
     "evalue": "With n_samples=0, test_size=0.2 and train_size=None, the resulting train set will be empty. Adjust any of the aforementioned parameters.",
     "output_type": "error",
     "traceback": [
      "\u001b[1;31m---------------------------------------------------------------------------\u001b[0m",
      "\u001b[1;31mValueError\u001b[0m                                Traceback (most recent call last)",
      "Cell \u001b[1;32mIn[18], line 1\u001b[0m\n\u001b[1;32m----> 1\u001b[0m X_train, X_valid, y_train, y_valid \u001b[38;5;241m=\u001b[39m \u001b[43mtrain_test_split\u001b[49m\u001b[43m(\u001b[49m\u001b[43m \u001b[49m\u001b[43mimage_paths\u001b[49m\u001b[43m,\u001b[49m\u001b[43m \u001b[49m\u001b[43mdirections\u001b[49m\u001b[43m,\u001b[49m\u001b[43m \u001b[49m\u001b[43mtest_size\u001b[49m\u001b[38;5;241;43m=\u001b[39;49m\u001b[38;5;241;43m0.2\u001b[39;49m\u001b[43m)\u001b[49m\n\u001b[0;32m      2\u001b[0m \u001b[38;5;28mprint\u001b[39m(\u001b[38;5;124mf\u001b[39m\u001b[38;5;124m\"\u001b[39m\u001b[38;5;124mTraining data: \u001b[39m\u001b[38;5;132;01m{\u001b[39;00m\u001b[38;5;28mlen\u001b[39m(X_train)\u001b[38;5;132;01m}\u001b[39;00m\u001b[38;5;130;01m\\n\u001b[39;00m\u001b[38;5;124mValidation data: \u001b[39m\u001b[38;5;132;01m{\u001b[39;00m\u001b[38;5;28mlen\u001b[39m(X_valid)\u001b[38;5;132;01m}\u001b[39;00m\u001b[38;5;124m\"\u001b[39m)\n",
      "File \u001b[1;32m~\\PycharmProjects\\rc_controller\\venv\\lib\\site-packages\\sklearn\\utils\\_param_validation.py:213\u001b[0m, in \u001b[0;36mvalidate_params.<locals>.decorator.<locals>.wrapper\u001b[1;34m(*args, **kwargs)\u001b[0m\n\u001b[0;32m    207\u001b[0m \u001b[38;5;28;01mtry\u001b[39;00m:\n\u001b[0;32m    208\u001b[0m     \u001b[38;5;28;01mwith\u001b[39;00m config_context(\n\u001b[0;32m    209\u001b[0m         skip_parameter_validation\u001b[38;5;241m=\u001b[39m(\n\u001b[0;32m    210\u001b[0m             prefer_skip_nested_validation \u001b[38;5;129;01mor\u001b[39;00m global_skip_validation\n\u001b[0;32m    211\u001b[0m         )\n\u001b[0;32m    212\u001b[0m     ):\n\u001b[1;32m--> 213\u001b[0m         \u001b[38;5;28;01mreturn\u001b[39;00m func(\u001b[38;5;241m*\u001b[39margs, \u001b[38;5;241m*\u001b[39m\u001b[38;5;241m*\u001b[39mkwargs)\n\u001b[0;32m    214\u001b[0m \u001b[38;5;28;01mexcept\u001b[39;00m InvalidParameterError \u001b[38;5;28;01mas\u001b[39;00m e:\n\u001b[0;32m    215\u001b[0m     \u001b[38;5;66;03m# When the function is just a wrapper around an estimator, we allow\u001b[39;00m\n\u001b[0;32m    216\u001b[0m     \u001b[38;5;66;03m# the function to delegate validation to the estimator, but we replace\u001b[39;00m\n\u001b[0;32m    217\u001b[0m     \u001b[38;5;66;03m# the name of the estimator by the name of the function in the error\u001b[39;00m\n\u001b[0;32m    218\u001b[0m     \u001b[38;5;66;03m# message to avoid confusion.\u001b[39;00m\n\u001b[0;32m    219\u001b[0m     msg \u001b[38;5;241m=\u001b[39m re\u001b[38;5;241m.\u001b[39msub(\n\u001b[0;32m    220\u001b[0m         \u001b[38;5;124mr\u001b[39m\u001b[38;5;124m\"\u001b[39m\u001b[38;5;124mparameter of \u001b[39m\u001b[38;5;124m\\\u001b[39m\u001b[38;5;124mw+ must be\u001b[39m\u001b[38;5;124m\"\u001b[39m,\n\u001b[0;32m    221\u001b[0m         \u001b[38;5;124mf\u001b[39m\u001b[38;5;124m\"\u001b[39m\u001b[38;5;124mparameter of \u001b[39m\u001b[38;5;132;01m{\u001b[39;00mfunc\u001b[38;5;241m.\u001b[39m\u001b[38;5;18m__qualname__\u001b[39m\u001b[38;5;132;01m}\u001b[39;00m\u001b[38;5;124m must be\u001b[39m\u001b[38;5;124m\"\u001b[39m,\n\u001b[0;32m    222\u001b[0m         \u001b[38;5;28mstr\u001b[39m(e),\n\u001b[0;32m    223\u001b[0m     )\n",
      "File \u001b[1;32m~\\PycharmProjects\\rc_controller\\venv\\lib\\site-packages\\sklearn\\model_selection\\_split.py:2660\u001b[0m, in \u001b[0;36mtrain_test_split\u001b[1;34m(test_size, train_size, random_state, shuffle, stratify, *arrays)\u001b[0m\n\u001b[0;32m   2657\u001b[0m arrays \u001b[38;5;241m=\u001b[39m indexable(\u001b[38;5;241m*\u001b[39marrays)\n\u001b[0;32m   2659\u001b[0m n_samples \u001b[38;5;241m=\u001b[39m _num_samples(arrays[\u001b[38;5;241m0\u001b[39m])\n\u001b[1;32m-> 2660\u001b[0m n_train, n_test \u001b[38;5;241m=\u001b[39m \u001b[43m_validate_shuffle_split\u001b[49m\u001b[43m(\u001b[49m\n\u001b[0;32m   2661\u001b[0m \u001b[43m    \u001b[49m\u001b[43mn_samples\u001b[49m\u001b[43m,\u001b[49m\u001b[43m \u001b[49m\u001b[43mtest_size\u001b[49m\u001b[43m,\u001b[49m\u001b[43m \u001b[49m\u001b[43mtrain_size\u001b[49m\u001b[43m,\u001b[49m\u001b[43m \u001b[49m\u001b[43mdefault_test_size\u001b[49m\u001b[38;5;241;43m=\u001b[39;49m\u001b[38;5;241;43m0.25\u001b[39;49m\n\u001b[0;32m   2662\u001b[0m \u001b[43m\u001b[49m\u001b[43m)\u001b[49m\n\u001b[0;32m   2664\u001b[0m \u001b[38;5;28;01mif\u001b[39;00m shuffle \u001b[38;5;129;01mis\u001b[39;00m \u001b[38;5;28;01mFalse\u001b[39;00m:\n\u001b[0;32m   2665\u001b[0m     \u001b[38;5;28;01mif\u001b[39;00m stratify \u001b[38;5;129;01mis\u001b[39;00m \u001b[38;5;129;01mnot\u001b[39;00m \u001b[38;5;28;01mNone\u001b[39;00m:\n",
      "File \u001b[1;32m~\\PycharmProjects\\rc_controller\\venv\\lib\\site-packages\\sklearn\\model_selection\\_split.py:2308\u001b[0m, in \u001b[0;36m_validate_shuffle_split\u001b[1;34m(n_samples, test_size, train_size, default_test_size)\u001b[0m\n\u001b[0;32m   2305\u001b[0m n_train, n_test \u001b[38;5;241m=\u001b[39m \u001b[38;5;28mint\u001b[39m(n_train), \u001b[38;5;28mint\u001b[39m(n_test)\n\u001b[0;32m   2307\u001b[0m \u001b[38;5;28;01mif\u001b[39;00m n_train \u001b[38;5;241m==\u001b[39m \u001b[38;5;241m0\u001b[39m:\n\u001b[1;32m-> 2308\u001b[0m     \u001b[38;5;28;01mraise\u001b[39;00m \u001b[38;5;167;01mValueError\u001b[39;00m(\n\u001b[0;32m   2309\u001b[0m         \u001b[38;5;124m\"\u001b[39m\u001b[38;5;124mWith n_samples=\u001b[39m\u001b[38;5;132;01m{}\u001b[39;00m\u001b[38;5;124m, test_size=\u001b[39m\u001b[38;5;132;01m{}\u001b[39;00m\u001b[38;5;124m and train_size=\u001b[39m\u001b[38;5;132;01m{}\u001b[39;00m\u001b[38;5;124m, the \u001b[39m\u001b[38;5;124m\"\u001b[39m\n\u001b[0;32m   2310\u001b[0m         \u001b[38;5;124m\"\u001b[39m\u001b[38;5;124mresulting train set will be empty. Adjust any of the \u001b[39m\u001b[38;5;124m\"\u001b[39m\n\u001b[0;32m   2311\u001b[0m         \u001b[38;5;124m\"\u001b[39m\u001b[38;5;124maforementioned parameters.\u001b[39m\u001b[38;5;124m\"\u001b[39m\u001b[38;5;241m.\u001b[39mformat(n_samples, test_size, train_size)\n\u001b[0;32m   2312\u001b[0m     )\n\u001b[0;32m   2314\u001b[0m \u001b[38;5;28;01mreturn\u001b[39;00m n_train, n_test\n",
      "\u001b[1;31mValueError\u001b[0m: With n_samples=0, test_size=0.2 and train_size=None, the resulting train set will be empty. Adjust any of the aforementioned parameters."
     ]
    }
   ],
   "source": [
    "X_train, X_valid, y_train, y_valid = train_test_split( image_paths, directions, test_size=0.2)\n",
    "print(f\"Training data: {len(X_train)}\\nValidation data: {len(X_valid)}\")"
   ]
  },
  {
   "cell_type": "markdown",
   "id": "731db7ab-26a6-473f-be80-210311376c88",
   "metadata": {},
   "source": [
    "# Image Augmentation\n",
    "For artificially increasing the amount of data for training and testing. This can prevent overfitting.\\\n",
    "Geometric transformation – flipping, zooming, cropping, panning...\\\r\n",
    "Color space transformatios –change RGB channels\\r\r\n",
    "Kernel filtsrs blurring or sharpening an imageeage"
   ]
  },
  {
   "cell_type": "code",
   "execution_count": null,
   "id": "714900ef-2b4a-47c2-b3a8-65fff7c32ca8",
   "metadata": {},
   "outputs": [],
   "source": [
    "def zoom(image):\n",
    "    # Specify the zoom factor\n",
    "    zoom_factor = 1.5\n",
    "    \n",
    "    # Get the image dimensions\n",
    "    height, width, _ = image.shape\n",
    "    \n",
    "    # Calculate the new dimensions after zooming\n",
    "    new_height = int(height * zoom_factor)\n",
    "    new_width = int(width * zoom_factor)\n",
    "    \n",
    "    # Resize the image and return\n",
    "    return cv2.resize(image, (new_width, new_height))\n",
    "\n",
    "def flip(image, direction):\n",
    "    # Flip the image\n",
    "    image = cv2.flip(image,1)\n",
    "\n",
    "    # If car is making a turn flip the direction label as well\n",
    "    if direction == \"leftTurn\":\n",
    "        direction == \"rightTurn\"\n",
    "    elif direction == \"rightTurn\":\n",
    "        direction == \"leftTurn\"\n",
    "    elif direction == \"leftinPlaceTurn\":\n",
    "        direction == \"rightInPlaceTurn\"\n",
    "    elif direction == \"rightInPlaceTurn\":\n",
    "        direction == \"leftInPlaceTurn\"\n",
    "   \n",
    "    return image, steering_angle\n",
    "\n",
    "def adjust_brightness(image, max_delta=30):\n",
    "    # Randomly adjust the brightness of the image\n",
    "    delta = np.random.uniform(-max_delta, max_delta)\n",
    "    image = cv2.add(image, np.array([delta]))\n",
    "    return image\n",
    "\n",
    "def translate_shift(image, max_translation=20):\n",
    "    # Randomly translate (shift) the image horizontally and/or vertically\n",
    "    rows, cols, _ = image.shape\n",
    "    dx = np.random.uniform(-max_translation, max_translation)\n",
    "    dy = np.random.uniform(-max_translation, max_translation)\n",
    "    translation_matrix = np.float32([[1, 0, dx], [0, 1, dy]])\n",
    "    image = cv2.warpAffine(image, translation_matrix, (cols, rows))\n",
    "    return image\n",
    "\n",
    "def perform_random_augmentation(image, direction):\n",
    "    # Randomly pick and apply augmentation to the image\n",
    "    augmentations = [\n",
    "        zoom, flip, adjust_brightness, translate_shift\n",
    "    ]\n",
    "\n",
    "    selected_augmentations = np.random.choice(augmentations, np.random.randint(1, len(augmentations)), replace=False)\n",
    "\n",
    "    for augmentation in selected_augmentations:\n",
    "        if augmentation == flip:\n",
    "            image, direction = augmentation(image, direction)\n",
    "        else:\n",
    "            image = augmentation(image)\n",
    "\n",
    "    return image, direction"
   ]
  },
  {
   "cell_type": "code",
   "execution_count": null,
   "id": "7ad91071-fbea-435f-b4da-680c5542a1f0",
   "metadata": {},
   "outputs": [],
   "source": []
  }
 ],
 "metadata": {
  "kernelspec": {
   "display_name": "Python 3 (ipykernel)",
   "language": "python",
   "name": "python3"
  },
  "language_info": {
   "codemirror_mode": {
    "name": "ipython",
    "version": 3
   },
   "file_extension": ".py",
   "mimetype": "text/x-python",
   "name": "python",
   "nbconvert_exporter": "python",
   "pygments_lexer": "ipython3",
   "version": "3.10.7"
  }
 },
 "nbformat": 4,
 "nbformat_minor": 5
}
